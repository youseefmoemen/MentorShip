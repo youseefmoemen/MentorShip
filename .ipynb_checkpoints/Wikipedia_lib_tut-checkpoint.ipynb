{
 "cells": [
  {
   "cell_type": "code",
   "execution_count": 1,
   "metadata": {},
   "outputs": [],
   "source": [
    "import wikipedia"
   ]
  },
  {
   "cell_type": "code",
   "execution_count": 5,
   "metadata": {},
   "outputs": [
    {
     "name": "stdout",
     "output_type": "stream",
     "text": [
      "Victor-Marie Hugo (French: [viktɔʁ maʁi yɡo] (listen); 26 February 1802 – 22 May 1885) was a French poet, novelist, essayist, playwright, and dramatist of the Romantic movement. During a literary career that spanned more than sixty years, he wrote abundantly in an exceptional variety of genres: lyrics, satires, epics, philosophical poems, epigrams, novels, history, critical essays, political speeches, funeral orations, diaries, letters public and private, as well as dramas in verse and prose.\n",
      "Hugo is considered to be one of the greatest and best-known French writers. Outside France, his most famous works are the novels Les Misérables, 1862, and The Hunchback of Notre-Dame (French: Notre-Dame de Paris), 1831. In France, Hugo is renowned for his poetry collections, such as Les Contemplations (The Contemplations) and La Légende des siècles (The Legend of the Ages). Hugo was at the forefront of the Romantic literary movement with his play Cromwell and drama Hernani. Many of his works have inspired music, both during his lifetime and after his death, including the musicals Les Misérables and Notre-Dame de Paris. He produced more than 4,000 drawings in his lifetime, and campaigned for social causes such as the abolition of capital punishment.\n",
      "Though a committed royalist when he was young, Hugo's views changed as the decades passed, and he became a passionate supporter of republicanism serving in politics as both deputy and senator. His work touched upon most of the political and social issues and the artistic trends of his time. His opposition to absolutism and his colossal literary achievement established him as a national hero. He was honoured by interment in the Panthéon.\n"
     ]
    }
   ],
   "source": [
    "print(wikipedia.summary('victor hugo'))"
   ]
  },
  {
   "cell_type": "code",
   "execution_count": 34,
   "metadata": {},
   "outputs": [],
   "source": [
    "result = wikipedia.search('math') #Never give O/P larger than 10 "
   ]
  },
  {
   "cell_type": "code",
   "execution_count": 35,
   "metadata": {},
   "outputs": [
    {
     "data": {
      "text/plain": [
       "10"
      ]
     },
     "execution_count": 35,
     "metadata": {},
     "output_type": "execute_result"
    }
   ],
   "source": [
    "len(result)"
   ]
  },
  {
   "cell_type": "code",
   "execution_count": 36,
   "metadata": {},
   "outputs": [
    {
     "data": {
      "text/plain": [
       "['Mathematics',\n",
       " 'Math rock',\n",
       " 'Math A',\n",
       " 'Speak & Math',\n",
       " 'Belur Math',\n",
       " 'Zentralblatt MATH',\n",
       " 'Math library',\n",
       " 'Asana-Math',\n",
       " 'New Math',\n",
       " 'Math Blaster!']"
      ]
     },
     "execution_count": 36,
     "metadata": {},
     "output_type": "execute_result"
    }
   ],
   "source": [
    "result"
   ]
  },
  {
   "cell_type": "code",
   "execution_count": 47,
   "metadata": {},
   "outputs": [],
   "source": [
    "page = wikipedia.page(result[0])"
   ]
  },
  {
   "cell_type": "code",
   "execution_count": 48,
   "metadata": {},
   "outputs": [
    {
     "data": {
      "text/plain": [
       "wikipedia.wikipedia.WikipediaPage"
      ]
     },
     "execution_count": 48,
     "metadata": {},
     "output_type": "execute_result"
    }
   ],
   "source": [
    "type(page)"
   ]
  },
  {
   "cell_type": "code",
   "execution_count": 51,
   "metadata": {},
   "outputs": [
    {
     "data": {
      "text/plain": [
       "'Mathematics'"
      ]
     },
     "execution_count": 51,
     "metadata": {},
     "output_type": "execute_result"
    }
   ],
   "source": [
    "page.title"
   ]
  },
  {
   "cell_type": "code",
   "execution_count": 52,
   "metadata": {},
   "outputs": [
    {
     "data": {
      "text/plain": [
       "['Articles containing Ancient Greek (to 1453)-language text',\n",
       " 'Articles containing French-language text',\n",
       " 'Articles containing Greek-language text',\n",
       " 'Articles containing Latin-language text',\n",
       " 'Articles with short description',\n",
       " 'Formal sciences',\n",
       " 'Harv and Sfn no-target errors',\n",
       " 'Main topic articles',\n",
       " 'Mathematics',\n",
       " 'Pages that use a deprecated format of the math tags',\n",
       " 'Pages using Sister project links with default search',\n",
       " 'Pages using multiple image with manual scaled images',\n",
       " 'Short description is different from Wikidata',\n",
       " 'Use mdy dates from October 2014',\n",
       " 'Webarchive template wayback links',\n",
       " 'Wikipedia articles with BNE identifiers',\n",
       " 'Wikipedia articles with BNF identifiers',\n",
       " 'Wikipedia articles with GND identifiers',\n",
       " 'Wikipedia articles with HDS identifiers',\n",
       " 'Wikipedia articles with LCCN identifiers',\n",
       " 'Wikipedia articles with MA identifiers',\n",
       " 'Wikipedia articles with NDL identifiers',\n",
       " 'Wikipedia articles with NLI identifiers',\n",
       " 'Wikipedia indefinitely move-protected pages',\n",
       " 'Wikipedia indefinitely semi-protected pages']"
      ]
     },
     "execution_count": 52,
     "metadata": {},
     "output_type": "execute_result"
    }
   ],
   "source": [
    "#page.categories #all categiries for the page"
   ]
  },
  {
   "cell_type": "code",
   "execution_count": 54,
   "metadata": {},
   "outputs": [],
   "source": [
    "#page.content #display the content of the page"
   ]
  },
  {
   "cell_type": "code",
   "execution_count": 58,
   "metadata": {},
   "outputs": [],
   "source": [
    "#page.links  ###links what are we going to use"
   ]
  },
  {
   "cell_type": "code",
   "execution_count": 59,
   "metadata": {},
   "outputs": [],
   "source": [
    "#page.references #links for the refrencess"
   ]
  },
  {
   "cell_type": "code",
   "execution_count": 72,
   "metadata": {},
   "outputs": [],
   "source": [
    "links_in_first_para = []\n",
    "for i in page.links:\n",
    "    if i.lower() in page.summary.lower():\n",
    "        links_in_first_para.append(i)"
   ]
  },
  {
   "cell_type": "code",
   "execution_count": 73,
   "metadata": {},
   "outputs": [
    {
     "name": "stdout",
     "output_type": "stream",
     "text": [
      "['Abstraction', 'Algebra', 'Applied mathematics', 'Axiom', 'Axiomatic system', 'Calculation', 'Conjecture', 'Counting', 'David Hilbert', 'Definition', 'Engineering', 'Euclid', \"Euclid's Elements\", 'Finance', 'Game theory', 'Geometry', 'Giuseppe Peano', 'Greek mathematics', 'Knowledge', 'Logic', 'Mathematical problem', 'Mathematical proof', 'Mathematical structure', 'Mathematicians', 'Measurement', 'Medicine', 'Natural science', 'Nature', 'Number theory', 'Pattern', 'Physical objects', 'Pi', 'Pure mathematics', 'Quantity', 'Renaissance', 'Research', 'Rigor', 'Science', 'Shape', 'Social sciences', 'Space', 'Statistics', 'Truth']\n"
     ]
    }
   ],
   "source": [
    "print(links_in_first_para)"
   ]
  },
  {
   "cell_type": "code",
   "execution_count": null,
   "metadata": {},
   "outputs": [],
   "source": []
  },
  {
   "cell_type": "code",
   "execution_count": null,
   "metadata": {},
   "outputs": [],
   "source": []
  },
  {
   "cell_type": "code",
   "execution_count": null,
   "metadata": {},
   "outputs": [],
   "source": []
  },
  {
   "cell_type": "code",
   "execution_count": null,
   "metadata": {},
   "outputs": [],
   "source": []
  }
 ],
 "metadata": {
  "celltoolbar": "Raw Cell Format",
  "kernelspec": {
   "display_name": "Python 3",
   "language": "python",
   "name": "python3"
  },
  "language_info": {
   "codemirror_mode": {
    "name": "ipython",
    "version": 3
   },
   "file_extension": ".py",
   "mimetype": "text/x-python",
   "name": "python",
   "nbconvert_exporter": "python",
   "pygments_lexer": "ipython3",
   "version": "3.8.3"
  }
 },
 "nbformat": 4,
 "nbformat_minor": 4
}
