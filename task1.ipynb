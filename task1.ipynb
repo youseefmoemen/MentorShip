{
 "cells": [
  {
   "cell_type": "code",
   "execution_count": 1,
   "metadata": {},
   "outputs": [],
   "source": [
    "import wikipedia\n",
    "import random\n",
    "import pandas as pd\n",
    "import matplotlib.pyplot as plt"
   ]
  },
  {
   "cell_type": "markdown",
   "metadata": {},
   "source": [
    "# Labels are \n",
    "    1: begining of entitiy\n",
    "    2: part of entitiy \n",
    "    3: Not entitiy"
   ]
  },
  {
   "cell_type": "code",
   "execution_count": 2,
   "metadata": {},
   "outputs": [],
   "source": [
    "def getData(c = 50): #c: Nummber of pages will be visited\n",
    "    data = {} # Word: label \n",
    "    searched = set() #keeping the searched pages\n",
    "    count = 0\n",
    "    while count < 50: #Number of visited wikipages\n",
    "        try:\n",
    "            page = wikipedia.page(wikipedia.random(pages = 1)) #Picking a random wiki\n",
    "        except wikipedia.exceptions.DisambiguationError:\n",
    "            continue\n",
    "        except wikipedia.exceptions.PageError:\n",
    "            continue\n",
    "        searched.add(page.title) #Adding the searched page\n",
    "        summary_words = [i.lower() for i in page.summary.split()] #all the words in the first paragraph (Summary)\n",
    "        for i in page.links: #Visitin all the links in the entire wiki and pick only mentioned in the summary\n",
    "            if i.lower() in page.summary.lower():\n",
    "                hold = i.split()\n",
    "                data[hold[0]] = 1\n",
    "                for j in range(1, len(hold)):\n",
    "                    data[hold[j]] = 2\n",
    "        for word in summary_words:\n",
    "            if word not in data:\n",
    "                data[word] = 3\n",
    "        count += 1\n",
    "    return data, searched"
   ]
  },
  {
   "cell_type": "code",
   "execution_count": 3,
   "metadata": {},
   "outputs": [
    {
     "name": "stderr",
     "output_type": "stream",
     "text": [
      "C:\\ProgramData\\Anaconda3\\lib\\site-packages\\wikipedia\\wikipedia.py:389: GuessedAtParserWarning: No parser was explicitly specified, so I'm using the best available HTML parser for this system (\"lxml\"). This usually isn't a problem, but if you run this code on another system, or in a different virtual environment, it may use a different parser and behave differently.\n",
      "\n",
      "The code that caused this warning is on line 389 of the file C:\\ProgramData\\Anaconda3\\lib\\site-packages\\wikipedia\\wikipedia.py. To get rid of this warning, pass the additional argument 'features=\"lxml\"' to the BeautifulSoup constructor.\n",
      "\n",
      "  lis = BeautifulSoup(html).find_all('li')\n"
     ]
    }
   ],
   "source": [
    "data = getData(c = 50) #Visiting 50 wiki pages"
   ]
  },
  {
   "cell_type": "code",
   "execution_count": 4,
   "metadata": {},
   "outputs": [
    {
     "data": {
      "text/plain": [
       "(50, 2592)"
      ]
     },
     "execution_count": 4,
     "metadata": {},
     "output_type": "execute_result"
    }
   ],
   "source": [
    "len(data[1]), len(data[0]) # Num of visited pages, Num of retrived words"
   ]
  },
  {
   "cell_type": "code",
   "execution_count": 5,
   "metadata": {},
   "outputs": [
    {
     "data": {
      "text/plain": [
       "{'1949 All-Pacific Coast football team',\n",
       " '2015 GSOC Tour Challenge',\n",
       " '51st Golden Bell Awards',\n",
       " 'Amblytelus montorum',\n",
       " 'Anne Crofton, 1st Baroness Crofton',\n",
       " 'Athletics at the 2009 Island Games',\n",
       " \"Banaras Hindu University women's rights protest\",\n",
       " 'Bureau of Transportation',\n",
       " 'Civil Rights Act of 1968',\n",
       " 'Corongoceras',\n",
       " 'Dalmatian Hinterland',\n",
       " 'East Columbus (Ohio)',\n",
       " 'Fjalar (rooster)',\n",
       " 'Geoff Hayes',\n",
       " 'Great ditrigonal dodecacronic hexecontahedron',\n",
       " 'Guilford, Missouri',\n",
       " 'Harburg (electoral district)',\n",
       " 'Highland Light Infantry',\n",
       " 'Hollinwood, Greater Manchester',\n",
       " 'Hypericum umbraculoides',\n",
       " 'Ibrahim al-Ifriqi',\n",
       " 'Josef Schößwendter',\n",
       " 'Judo at the 1972 Summer Olympics',\n",
       " 'L. C. Dunn',\n",
       " 'Lasiocroton',\n",
       " 'Leslie Charteris',\n",
       " 'List of number-one R&B singles of 1989 (U.S.)',\n",
       " 'List of systems of plant taxonomy',\n",
       " 'Long civil rights movement',\n",
       " 'Mount Stone',\n",
       " 'N. P. Durga',\n",
       " 'Napoleonic (EP)',\n",
       " 'Noël Roquevert',\n",
       " 'Outlying territory',\n",
       " 'Phyllonorycter enchalcoa',\n",
       " 'Ralph Iwamoto',\n",
       " 'Ranelagh School',\n",
       " 'Samuel Gregson',\n",
       " 'Sanatan Dharma College',\n",
       " 'Sedberry-Holmes House',\n",
       " 'Senna caudata',\n",
       " 'Shinji Otsuka',\n",
       " 'Stanley Moore (politician)',\n",
       " 'Stara Zagora Zoo',\n",
       " 'Susan Allison',\n",
       " 'Swiss Innovation Park',\n",
       " 'Takanoyu Onsen',\n",
       " 'Walk on Water (band)',\n",
       " 'Yubdo (woreda)',\n",
       " 'Éder López'}"
      ]
     },
     "execution_count": 5,
     "metadata": {},
     "output_type": "execute_result"
    }
   ],
   "source": [
    "data[1] #titles for the visited pages"
   ]
  },
  {
   "cell_type": "code",
   "execution_count": 6,
   "metadata": {},
   "outputs": [],
   "source": [
    "df = pd.DataFrame()"
   ]
  },
  {
   "cell_type": "code",
   "execution_count": 7,
   "metadata": {},
   "outputs": [],
   "source": [
    "df.insert(0, 'word', list(data[0].keys()))"
   ]
  },
  {
   "cell_type": "code",
   "execution_count": 8,
   "metadata": {},
   "outputs": [],
   "source": [
    "df.insert(1, 'label', list(data[0].values()))"
   ]
  },
  {
   "cell_type": "code",
   "execution_count": 9,
   "metadata": {},
   "outputs": [
    {
     "data": {
      "text/html": [
       "<div>\n",
       "<style scoped>\n",
       "    .dataframe tbody tr th:only-of-type {\n",
       "        vertical-align: middle;\n",
       "    }\n",
       "\n",
       "    .dataframe tbody tr th {\n",
       "        vertical-align: top;\n",
       "    }\n",
       "\n",
       "    .dataframe thead th {\n",
       "        text-align: right;\n",
       "    }\n",
       "</style>\n",
       "<table border=\"1\" class=\"dataframe\">\n",
       "  <thead>\n",
       "    <tr style=\"text-align: right;\">\n",
       "      <th></th>\n",
       "      <th>word</th>\n",
       "      <th>label</th>\n",
       "    </tr>\n",
       "  </thead>\n",
       "  <tbody>\n",
       "    <tr>\n",
       "      <th>0</th>\n",
       "      <td>A62</td>\n",
       "      <td>1</td>\n",
       "    </tr>\n",
       "    <tr>\n",
       "      <th>1</th>\n",
       "      <td>road</td>\n",
       "      <td>2</td>\n",
       "    </tr>\n",
       "    <tr>\n",
       "      <th>2</th>\n",
       "      <td>Chadderton</td>\n",
       "      <td>1</td>\n",
       "    </tr>\n",
       "    <tr>\n",
       "      <th>3</th>\n",
       "      <td>England</td>\n",
       "      <td>2</td>\n",
       "    </tr>\n",
       "    <tr>\n",
       "      <th>4</th>\n",
       "      <td>Failsworth</td>\n",
       "      <td>1</td>\n",
       "    </tr>\n",
       "  </tbody>\n",
       "</table>\n",
       "</div>"
      ],
      "text/plain": [
       "         word  label\n",
       "0         A62      1\n",
       "1        road      2\n",
       "2  Chadderton      1\n",
       "3     England      2\n",
       "4  Failsworth      1"
      ]
     },
     "execution_count": 9,
     "metadata": {},
     "output_type": "execute_result"
    }
   ],
   "source": [
    "df.head()"
   ]
  },
  {
   "cell_type": "code",
   "execution_count": 10,
   "metadata": {},
   "outputs": [
    {
     "data": {
      "text/plain": [
       "3    2103\n",
       "2     249\n",
       "1     240\n",
       "Name: label, dtype: int64"
      ]
     },
     "execution_count": 10,
     "metadata": {},
     "output_type": "execute_result"
    }
   ],
   "source": [
    "df.label.value_counts()"
   ]
  },
  {
   "cell_type": "code",
   "execution_count": 11,
   "metadata": {},
   "outputs": [
    {
     "data": {
      "text/plain": [
       "(array([ 240.,    0.,    0.,    0.,    0.,  249.,    0.,    0.,    0.,\n",
       "        2103.]),\n",
       " array([1. , 1.2, 1.4, 1.6, 1.8, 2. , 2.2, 2.4, 2.6, 2.8, 3. ]),\n",
       " <a list of 10 Patch objects>)"
      ]
     },
     "execution_count": 11,
     "metadata": {},
     "output_type": "execute_result"
    },
    {
     "data": {
      "image/png": "[encoded data removed]",
      "text/plain": [
       "<Figure size 432x288 with 1 Axes>"
      ]
     },
     "metadata": {
      "needs_background": "light"
     },
     "output_type": "display_data"
    }
   ],
   "source": [
    "plt.hist(df.label)"
   ]
  },
  {
   "cell_type": "code",
   "execution_count": null,
   "metadata": {},
   "outputs": [],
   "source": []
  }
 ],
 "metadata": {
  "kernelspec": {
   "display_name": "Python 3",
   "language": "python",
   "name": "python3"
  },
  "language_info": {
   "codemirror_mode": {
    "name": "ipython",
    "version": 3
   },
   "file_extension": ".py",
   "mimetype": "text/x-python",
   "name": "python",
   "nbconvert_exporter": "python",
   "pygments_lexer": "ipython3",
   "version": "3.8.3"
  }
 },
 "nbformat": 4,
 "nbformat_minor": 4
}
